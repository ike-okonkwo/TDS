{
 "cells": [
  {
   "cell_type": "code",
   "execution_count": 115,
   "metadata": {
    "collapsed": true
   },
   "outputs": [],
   "source": [
    "import pandas as pd\n",
    "import statsmodels.api as sm\n",
    "import math\n",
    "import matplotlib.pyplot as plt"
   ]
  },
  {
   "cell_type": "code",
   "execution_count": 116,
   "metadata": {
    "collapsed": false
   },
   "outputs": [
    {
     "name": "stdout",
     "output_type": "stream",
     "text": [
      "Populating the interactive namespace from numpy and matplotlib\n"
     ]
    }
   ],
   "source": [
    "%pylab inline"
   ]
  },
  {
   "cell_type": "code",
   "execution_count": 117,
   "metadata": {
    "collapsed": true
   },
   "outputs": [],
   "source": [
    "## Retrieve Data \n",
    "loansData = pd.read_csv('https://spark-public.s3.amazonaws.com/dataanalysis/loansData.csv')"
   ]
  },
  {
   "cell_type": "code",
   "execution_count": 118,
   "metadata": {
    "collapsed": false
   },
   "outputs": [
    {
     "data": {
      "text/html": [
       "<div style=\"max-height:1000px;max-width:1500px;overflow:auto;\">\n",
       "<table border=\"1\" class=\"dataframe\">\n",
       "  <thead>\n",
       "    <tr style=\"text-align: right;\">\n",
       "      <th></th>\n",
       "      <th>Amount.Requested</th>\n",
       "      <th>Amount.Funded.By.Investors</th>\n",
       "      <th>Interest.Rate</th>\n",
       "      <th>Loan.Length</th>\n",
       "      <th>Loan.Purpose</th>\n",
       "      <th>Debt.To.Income.Ratio</th>\n",
       "      <th>State</th>\n",
       "      <th>Home.Ownership</th>\n",
       "      <th>Monthly.Income</th>\n",
       "      <th>FICO.Range</th>\n",
       "      <th>Open.CREDIT.Lines</th>\n",
       "      <th>Revolving.CREDIT.Balance</th>\n",
       "      <th>Inquiries.in.the.Last.6.Months</th>\n",
       "      <th>Employment.Length</th>\n",
       "    </tr>\n",
       "  </thead>\n",
       "  <tbody>\n",
       "    <tr>\n",
       "      <th>0</th>\n",
       "      <td> 20000</td>\n",
       "      <td> 20000</td>\n",
       "      <td>  8.90%</td>\n",
       "      <td> 36 months</td>\n",
       "      <td> debt_consolidation</td>\n",
       "      <td> 14.90%</td>\n",
       "      <td> SC</td>\n",
       "      <td> MORTGAGE</td>\n",
       "      <td>  6541.67</td>\n",
       "      <td> 735-739</td>\n",
       "      <td> 14</td>\n",
       "      <td> 14272</td>\n",
       "      <td> 2</td>\n",
       "      <td> &lt; 1 year</td>\n",
       "    </tr>\n",
       "    <tr>\n",
       "      <th>1</th>\n",
       "      <td> 19200</td>\n",
       "      <td> 19200</td>\n",
       "      <td> 12.12%</td>\n",
       "      <td> 36 months</td>\n",
       "      <td> debt_consolidation</td>\n",
       "      <td> 28.36%</td>\n",
       "      <td> TX</td>\n",
       "      <td> MORTGAGE</td>\n",
       "      <td>  4583.33</td>\n",
       "      <td> 715-719</td>\n",
       "      <td> 12</td>\n",
       "      <td> 11140</td>\n",
       "      <td> 1</td>\n",
       "      <td>  2 years</td>\n",
       "    </tr>\n",
       "    <tr>\n",
       "      <th>2</th>\n",
       "      <td> 35000</td>\n",
       "      <td> 35000</td>\n",
       "      <td> 21.98%</td>\n",
       "      <td> 60 months</td>\n",
       "      <td> debt_consolidation</td>\n",
       "      <td> 23.81%</td>\n",
       "      <td> CA</td>\n",
       "      <td> MORTGAGE</td>\n",
       "      <td> 11500.00</td>\n",
       "      <td> 690-694</td>\n",
       "      <td> 14</td>\n",
       "      <td> 21977</td>\n",
       "      <td> 1</td>\n",
       "      <td>  2 years</td>\n",
       "    </tr>\n",
       "    <tr>\n",
       "      <th>3</th>\n",
       "      <td> 10000</td>\n",
       "      <td>  9975</td>\n",
       "      <td>  9.99%</td>\n",
       "      <td> 36 months</td>\n",
       "      <td> debt_consolidation</td>\n",
       "      <td> 14.30%</td>\n",
       "      <td> KS</td>\n",
       "      <td> MORTGAGE</td>\n",
       "      <td>  3833.33</td>\n",
       "      <td> 695-699</td>\n",
       "      <td> 10</td>\n",
       "      <td>  9346</td>\n",
       "      <td> 0</td>\n",
       "      <td>  5 years</td>\n",
       "    </tr>\n",
       "    <tr>\n",
       "      <th>4</th>\n",
       "      <td> 12000</td>\n",
       "      <td> 12000</td>\n",
       "      <td> 11.71%</td>\n",
       "      <td> 36 months</td>\n",
       "      <td>        credit_card</td>\n",
       "      <td> 18.78%</td>\n",
       "      <td> NJ</td>\n",
       "      <td>     RENT</td>\n",
       "      <td>  3195.00</td>\n",
       "      <td> 695-699</td>\n",
       "      <td> 11</td>\n",
       "      <td> 14469</td>\n",
       "      <td> 0</td>\n",
       "      <td>  9 years</td>\n",
       "    </tr>\n",
       "  </tbody>\n",
       "</table>\n",
       "</div>"
      ],
      "text/plain": [
       "   Amount.Requested  Amount.Funded.By.Investors Interest.Rate Loan.Length  \\\n",
       "0             20000                       20000         8.90%   36 months   \n",
       "1             19200                       19200        12.12%   36 months   \n",
       "2             35000                       35000        21.98%   60 months   \n",
       "3             10000                        9975         9.99%   36 months   \n",
       "4             12000                       12000        11.71%   36 months   \n",
       "\n",
       "         Loan.Purpose Debt.To.Income.Ratio State Home.Ownership  \\\n",
       "0  debt_consolidation               14.90%    SC       MORTGAGE   \n",
       "1  debt_consolidation               28.36%    TX       MORTGAGE   \n",
       "2  debt_consolidation               23.81%    CA       MORTGAGE   \n",
       "3  debt_consolidation               14.30%    KS       MORTGAGE   \n",
       "4         credit_card               18.78%    NJ           RENT   \n",
       "\n",
       "   Monthly.Income FICO.Range  Open.CREDIT.Lines  Revolving.CREDIT.Balance  \\\n",
       "0         6541.67    735-739                 14                     14272   \n",
       "1         4583.33    715-719                 12                     11140   \n",
       "2        11500.00    690-694                 14                     21977   \n",
       "3         3833.33    695-699                 10                      9346   \n",
       "4         3195.00    695-699                 11                     14469   \n",
       "\n",
       "   Inquiries.in.the.Last.6.Months Employment.Length  \n",
       "0                               2          < 1 year  \n",
       "1                               1           2 years  \n",
       "2                               1           2 years  \n",
       "3                               0           5 years  \n",
       "4                               0           9 years  "
      ]
     },
     "execution_count": 118,
     "metadata": {},
     "output_type": "execute_result"
    }
   ],
   "source": [
    "## Reset index\n",
    "loansData = loansData.reset_index(drop = True)\n",
    "loansData.head()"
   ]
  },
  {
   "cell_type": "code",
   "execution_count": 119,
   "metadata": {
    "collapsed": true
   },
   "outputs": [],
   "source": [
    "## Utility functions to clean up data\n",
    "\n",
    "def int_rate(dt):\n",
    "    dt = str(dt).strip('%')\n",
    "    if float(dt) < 12.0:\n",
    "        return 0\n",
    "    else:\n",
    "        return 1\n",
    "    \n",
    "def fico_score(dt):\n",
    "    return int(dt.split('-')[0])"
   ]
  },
  {
   "cell_type": "code",
   "execution_count": 120,
   "metadata": {
    "collapsed": false
   },
   "outputs": [],
   "source": [
    "df = loansData[['Interest.Rate', 'Amount.Requested']]"
   ]
  },
  {
   "cell_type": "code",
   "execution_count": 121,
   "metadata": {
    "collapsed": false
   },
   "outputs": [
    {
     "name": "stderr",
     "output_type": "stream",
     "text": [
      "/Users/ikeokonkwo/anaconda/lib/python2.7/site-packages/IPython/kernel/__main__.py:1: SettingWithCopyWarning: \n",
      "A value is trying to be set on a copy of a slice from a DataFrame.\n",
      "Try using .loc[row_indexer,col_indexer] = value instead\n",
      "\n",
      "See the the caveats in the documentation: http://pandas.pydata.org/pandas-docs/stable/indexing.html#indexing-view-versus-copy\n",
      "  if __name__ == '__main__':\n",
      "/Users/ikeokonkwo/anaconda/lib/python2.7/site-packages/IPython/kernel/__main__.py:2: SettingWithCopyWarning: \n",
      "A value is trying to be set on a copy of a slice from a DataFrame.\n",
      "Try using .loc[row_indexer,col_indexer] = value instead\n",
      "\n",
      "See the the caveats in the documentation: http://pandas.pydata.org/pandas-docs/stable/indexing.html#indexing-view-versus-copy\n",
      "  from IPython.kernel.zmq import kernelapp as app\n",
      "/Users/ikeokonkwo/anaconda/lib/python2.7/site-packages/IPython/kernel/__main__.py:3: SettingWithCopyWarning: \n",
      "A value is trying to be set on a copy of a slice from a DataFrame.\n",
      "Try using .loc[row_indexer,col_indexer] = value instead\n",
      "\n",
      "See the the caveats in the documentation: http://pandas.pydata.org/pandas-docs/stable/indexing.html#indexing-view-versus-copy\n",
      "  app.launch_new_instance()\n"
     ]
    }
   ],
   "source": [
    "df['Interest.Rate'] = df['Interest.Rate'].apply(int_rate)\n",
    "df['FICO.Score'] = loansData['FICO.Range'].apply(fico_score)\n",
    "df['Intercept'] = 1.0"
   ]
  },
  {
   "cell_type": "code",
   "execution_count": 122,
   "metadata": {
    "collapsed": false
   },
   "outputs": [
    {
     "data": {
      "text/html": [
       "<div style=\"max-height:1000px;max-width:1500px;overflow:auto;\">\n",
       "<table border=\"1\" class=\"dataframe\">\n",
       "  <thead>\n",
       "    <tr style=\"text-align: right;\">\n",
       "      <th></th>\n",
       "      <th>Interest.Rate</th>\n",
       "      <th>Amount.Requested</th>\n",
       "      <th>FICO.Score</th>\n",
       "      <th>Intercept</th>\n",
       "    </tr>\n",
       "  </thead>\n",
       "  <tbody>\n",
       "    <tr>\n",
       "      <th>0</th>\n",
       "      <td> 0</td>\n",
       "      <td> 20000</td>\n",
       "      <td> 735</td>\n",
       "      <td> 1</td>\n",
       "    </tr>\n",
       "    <tr>\n",
       "      <th>1</th>\n",
       "      <td> 1</td>\n",
       "      <td> 19200</td>\n",
       "      <td> 715</td>\n",
       "      <td> 1</td>\n",
       "    </tr>\n",
       "    <tr>\n",
       "      <th>2</th>\n",
       "      <td> 1</td>\n",
       "      <td> 35000</td>\n",
       "      <td> 690</td>\n",
       "      <td> 1</td>\n",
       "    </tr>\n",
       "    <tr>\n",
       "      <th>3</th>\n",
       "      <td> 0</td>\n",
       "      <td> 10000</td>\n",
       "      <td> 695</td>\n",
       "      <td> 1</td>\n",
       "    </tr>\n",
       "    <tr>\n",
       "      <th>4</th>\n",
       "      <td> 0</td>\n",
       "      <td> 12000</td>\n",
       "      <td> 695</td>\n",
       "      <td> 1</td>\n",
       "    </tr>\n",
       "  </tbody>\n",
       "</table>\n",
       "</div>"
      ],
      "text/plain": [
       "   Interest.Rate  Amount.Requested  FICO.Score  Intercept\n",
       "0              0             20000         735          1\n",
       "1              1             19200         715          1\n",
       "2              1             35000         690          1\n",
       "3              0             10000         695          1\n",
       "4              0             12000         695          1"
      ]
     },
     "execution_count": 122,
     "metadata": {},
     "output_type": "execute_result"
    }
   ],
   "source": [
    "df.head()"
   ]
  },
  {
   "cell_type": "code",
   "execution_count": 123,
   "metadata": {
    "collapsed": false
   },
   "outputs": [
    {
     "name": "stdout",
     "output_type": "stream",
     "text": [
      "Optimization terminated successfully.\n",
      "         Current function value: 0.319503\n",
      "         Iterations 8\n",
      "FICO.Score          -0.087423\n",
      "Amount.Requested     0.000174\n",
      "Intercept           60.125045\n",
      "dtype: float64\n"
     ]
    }
   ],
   "source": [
    "##  train logistic regression with data \n",
    "ind_vars = ['FICO.Score', 'Amount.Requested', 'Intercept']\n",
    "logit = sm.Logit(df['Interest.Rate'], df[ind_vars])\n",
    "result = logit.fit()\n",
    "coeff = result.params\n",
    "print(coeff)"
   ]
  },
  {
   "cell_type": "code",
   "execution_count": 124,
   "metadata": {
    "collapsed": false
   },
   "outputs": [
    {
     "data": {
      "text/plain": [
       "0.65045887580957595"
      ]
     },
     "execution_count": 124,
     "metadata": {},
     "output_type": "execute_result"
    }
   ],
   "source": [
    "## Calculate the interest rate given FIC0 score and Amount Request\n",
    "\n",
    "def calc_int_rate(params, fico_score, loan_amount):\n",
    "    '''\n",
    "    Calculate interest rate given FIC0 score and Amount Request\n",
    "    '''\n",
    "    interest_rate =  params['Intercept'] + params['FICO.Score'] * fico_score + params['Amount.Requested'] * loan_amount\n",
    "    return abs(interest_rate)\n",
    "\n",
    "# example\n",
    "calc_int_rate(coeff, 735, 20000)"
   ]
  },
  {
   "cell_type": "code",
   "execution_count": 125,
   "metadata": {
    "collapsed": false
   },
   "outputs": [
    {
     "data": {
      "text/plain": [
       "0.6570104626734988"
      ]
     },
     "execution_count": 125,
     "metadata": {},
     "output_type": "execute_result"
    }
   ],
   "source": [
    "def logistic_function_proba(interest_rate):\n",
    "    '''\n",
    "    Output log-odds from logistic function for a given interest rate \n",
    "    '''\n",
    "    p = 1/(1 + math.exp(-(interest_rate)))  \n",
    "    return p\n",
    "\n",
    "# example\n",
    "logistic_function_proba(0.650)"
   ]
  },
  {
   "cell_type": "markdown",
   "metadata": {},
   "source": [
    "Generate x and y data to plot the sigmoid curve"
   ]
  },
  {
   "cell_type": "code",
   "execution_count": 126,
   "metadata": {
    "collapsed": false
   },
   "outputs": [],
   "source": [
    "x = range(-1000,1600)"
   ]
  },
  {
   "cell_type": "code",
   "execution_count": 127,
   "metadata": {
    "collapsed": true
   },
   "outputs": [],
   "source": [
    "x_ = [i/100. for i in x]\n",
    "y_ = [logistic_function_proba(i) for i in x_ ]"
   ]
  },
  {
   "cell_type": "code",
   "execution_count": 128,
   "metadata": {
    "collapsed": false
   },
   "outputs": [
    {
     "data": {
      "image/png": "[encoded data removed]",
      "text/plain": [
       "<matplotlib.figure.Figure at 0x10aef4e10>"
      ]
     },
     "metadata": {},
     "output_type": "display_data"
    }
   ],
   "source": [
    "# plot data \n",
    "plt.plot(x_, y_)\n",
    "plt.ylabel(' Probability')\n",
    "plt.xlabel('Interest Rates')\n",
    "plt.show()"
   ]
  },
  {
   "cell_type": "code",
   "execution_count": null,
   "metadata": {
    "collapsed": true
   },
   "outputs": [],
   "source": []
  }
 ],
 "metadata": {
  "kernelspec": {
   "display_name": "Python 2",
   "language": "python",
   "name": "python2"
  },
  "language_info": {
   "codemirror_mode": {
    "name": "ipython",
    "version": 2
   },
   "file_extension": ".py",
   "mimetype": "text/x-python",
   "name": "python",
   "nbconvert_exporter": "python",
   "pygments_lexer": "ipython2",
   "version": "2.7.9"
  }
 },
 "nbformat": 4,
 "nbformat_minor": 0
}
