{
 "cells": [
  {
   "cell_type": "code",
   "execution_count": 1,
   "metadata": {
    "collapsed": true
   },
   "outputs": [],
   "source": [
    "import numpy as np\n",
    "import pandas as pd\n",
    "import statsmodels.api as sm"
   ]
  },
  {
   "cell_type": "code",
   "execution_count": 2,
   "metadata": {
    "collapsed": false
   },
   "outputs": [],
   "source": [
    "df_ = pd.read_csv('LoanStats3c.csv', skiprows =[0], low_memory=False)"
   ]
  },
  {
   "cell_type": "code",
   "execution_count": 3,
   "metadata": {
    "collapsed": false
   },
   "outputs": [
    {
     "data": {
      "text/html": [
       "<div style=\"max-height:1000px;max-width:1500px;overflow:auto;\">\n",
       "<table border=\"1\" class=\"dataframe\">\n",
       "  <thead>\n",
       "    <tr style=\"text-align: right;\">\n",
       "      <th></th>\n",
       "      <th>id</th>\n",
       "      <th>member_id</th>\n",
       "      <th>loan_amnt</th>\n",
       "      <th>funded_amnt</th>\n",
       "      <th>funded_amnt_inv</th>\n",
       "      <th>term</th>\n",
       "      <th>int_rate</th>\n",
       "      <th>installment</th>\n",
       "      <th>grade</th>\n",
       "      <th>sub_grade</th>\n",
       "      <th>...</th>\n",
       "      <th>total_rec_late_fee</th>\n",
       "      <th>recoveries</th>\n",
       "      <th>collection_recovery_fee</th>\n",
       "      <th>last_pymnt_d</th>\n",
       "      <th>last_pymnt_amnt</th>\n",
       "      <th>next_pymnt_d</th>\n",
       "      <th>last_credit_pull_d</th>\n",
       "      <th>collections_12_mths_ex_med</th>\n",
       "      <th>mths_since_last_major_derog</th>\n",
       "      <th>policy_code</th>\n",
       "    </tr>\n",
       "  </thead>\n",
       "  <tbody>\n",
       "    <tr>\n",
       "      <th>0</th>\n",
       "      <td> 36805548</td>\n",
       "      <td> 39558264</td>\n",
       "      <td> 10400</td>\n",
       "      <td> 10400</td>\n",
       "      <td> 10400</td>\n",
       "      <td>  36 months</td>\n",
       "      <td>   6.99%</td>\n",
       "      <td> 321.08</td>\n",
       "      <td> A</td>\n",
       "      <td> A3</td>\n",
       "      <td>...</td>\n",
       "      <td> 0</td>\n",
       "      <td> 0</td>\n",
       "      <td> 0</td>\n",
       "      <td> Mar-2015</td>\n",
       "      <td> 321.08</td>\n",
       "      <td> Apr-2015</td>\n",
       "      <td> Mar-2015</td>\n",
       "      <td> 0</td>\n",
       "      <td> 59</td>\n",
       "      <td> 1</td>\n",
       "    </tr>\n",
       "    <tr>\n",
       "      <th>1</th>\n",
       "      <td> 38098114</td>\n",
       "      <td> 40860827</td>\n",
       "      <td> 15000</td>\n",
       "      <td> 15000</td>\n",
       "      <td> 15000</td>\n",
       "      <td>  60 months</td>\n",
       "      <td>  12.39%</td>\n",
       "      <td> 336.64</td>\n",
       "      <td> C</td>\n",
       "      <td> C1</td>\n",
       "      <td>...</td>\n",
       "      <td> 0</td>\n",
       "      <td> 0</td>\n",
       "      <td> 0</td>\n",
       "      <td> Mar-2015</td>\n",
       "      <td> 336.64</td>\n",
       "      <td> Apr-2015</td>\n",
       "      <td> Mar-2015</td>\n",
       "      <td> 0</td>\n",
       "      <td>NaN</td>\n",
       "      <td> 1</td>\n",
       "    </tr>\n",
       "    <tr>\n",
       "      <th>2</th>\n",
       "      <td> 37822187</td>\n",
       "      <td> 40585251</td>\n",
       "      <td>  9600</td>\n",
       "      <td>  9600</td>\n",
       "      <td>  9600</td>\n",
       "      <td>  36 months</td>\n",
       "      <td>  13.66%</td>\n",
       "      <td> 326.53</td>\n",
       "      <td> C</td>\n",
       "      <td> C3</td>\n",
       "      <td>...</td>\n",
       "      <td> 0</td>\n",
       "      <td> 0</td>\n",
       "      <td> 0</td>\n",
       "      <td> Mar-2015</td>\n",
       "      <td> 326.53</td>\n",
       "      <td> Apr-2015</td>\n",
       "      <td> Mar-2015</td>\n",
       "      <td> 0</td>\n",
       "      <td>NaN</td>\n",
       "      <td> 1</td>\n",
       "    </tr>\n",
       "    <tr>\n",
       "      <th>3</th>\n",
       "      <td> 37662224</td>\n",
       "      <td> 40425321</td>\n",
       "      <td>  7650</td>\n",
       "      <td>  7650</td>\n",
       "      <td>  7650</td>\n",
       "      <td>  36 months</td>\n",
       "      <td>  13.66%</td>\n",
       "      <td> 260.20</td>\n",
       "      <td> C</td>\n",
       "      <td> C3</td>\n",
       "      <td>...</td>\n",
       "      <td> 0</td>\n",
       "      <td> 0</td>\n",
       "      <td> 0</td>\n",
       "      <td> Mar-2015</td>\n",
       "      <td> 260.20</td>\n",
       "      <td> Apr-2015</td>\n",
       "      <td> Mar-2015</td>\n",
       "      <td> 0</td>\n",
       "      <td>NaN</td>\n",
       "      <td> 1</td>\n",
       "    </tr>\n",
       "    <tr>\n",
       "      <th>4</th>\n",
       "      <td> 37612354</td>\n",
       "      <td> 40375473</td>\n",
       "      <td> 12800</td>\n",
       "      <td> 12800</td>\n",
       "      <td> 12800</td>\n",
       "      <td>  60 months</td>\n",
       "      <td>  17.14%</td>\n",
       "      <td> 319.08</td>\n",
       "      <td> D</td>\n",
       "      <td> D4</td>\n",
       "      <td>...</td>\n",
       "      <td> 0</td>\n",
       "      <td> 0</td>\n",
       "      <td> 0</td>\n",
       "      <td> Mar-2015</td>\n",
       "      <td> 319.08</td>\n",
       "      <td> Apr-2015</td>\n",
       "      <td> Mar-2015</td>\n",
       "      <td> 0</td>\n",
       "      <td> 36</td>\n",
       "      <td> 1</td>\n",
       "    </tr>\n",
       "  </tbody>\n",
       "</table>\n",
       "<p>5 rows × 52 columns</p>\n",
       "</div>"
      ],
      "text/plain": [
       "         id  member_id  loan_amnt  funded_amnt  funded_amnt_inv        term  \\\n",
       "0  36805548   39558264      10400        10400            10400   36 months   \n",
       "1  38098114   40860827      15000        15000            15000   60 months   \n",
       "2  37822187   40585251       9600         9600             9600   36 months   \n",
       "3  37662224   40425321       7650         7650             7650   36 months   \n",
       "4  37612354   40375473      12800        12800            12800   60 months   \n",
       "\n",
       "  int_rate  installment grade sub_grade     ...     total_rec_late_fee  \\\n",
       "0    6.99%       321.08     A        A3     ...                      0   \n",
       "1   12.39%       336.64     C        C1     ...                      0   \n",
       "2   13.66%       326.53     C        C3     ...                      0   \n",
       "3   13.66%       260.20     C        C3     ...                      0   \n",
       "4   17.14%       319.08     D        D4     ...                      0   \n",
       "\n",
       "  recoveries collection_recovery_fee  last_pymnt_d last_pymnt_amnt  \\\n",
       "0          0                       0      Mar-2015          321.08   \n",
       "1          0                       0      Mar-2015          336.64   \n",
       "2          0                       0      Mar-2015          326.53   \n",
       "3          0                       0      Mar-2015          260.20   \n",
       "4          0                       0      Mar-2015          319.08   \n",
       "\n",
       "  next_pymnt_d last_credit_pull_d collections_12_mths_ex_med  \\\n",
       "0     Apr-2015           Mar-2015                          0   \n",
       "1     Apr-2015           Mar-2015                          0   \n",
       "2     Apr-2015           Mar-2015                          0   \n",
       "3     Apr-2015           Mar-2015                          0   \n",
       "4     Apr-2015           Mar-2015                          0   \n",
       "\n",
       "  mths_since_last_major_derog policy_code  \n",
       "0                          59           1  \n",
       "1                         NaN           1  \n",
       "2                         NaN           1  \n",
       "3                         NaN           1  \n",
       "4                          36           1  \n",
       "\n",
       "[5 rows x 52 columns]"
      ]
     },
     "execution_count": 3,
     "metadata": {},
     "output_type": "execute_result"
    }
   ],
   "source": [
    "df_.head()"
   ]
  },
  {
   "cell_type": "code",
   "execution_count": 4,
   "metadata": {
    "collapsed": false
   },
   "outputs": [
    {
     "data": {
      "text/html": [
       "<div style=\"max-height:1000px;max-width:1500px;overflow:auto;\">\n",
       "<table border=\"1\" class=\"dataframe\">\n",
       "  <thead>\n",
       "    <tr style=\"text-align: right;\">\n",
       "      <th></th>\n",
       "      <th>annual_inc</th>\n",
       "      <th>home_ownership</th>\n",
       "      <th>int_rate</th>\n",
       "    </tr>\n",
       "  </thead>\n",
       "  <tbody>\n",
       "    <tr>\n",
       "      <th>0</th>\n",
       "      <td>  58000</td>\n",
       "      <td> MORTGAGE</td>\n",
       "      <td>   6.99%</td>\n",
       "    </tr>\n",
       "    <tr>\n",
       "      <th>1</th>\n",
       "      <td>  78000</td>\n",
       "      <td>     RENT</td>\n",
       "      <td>  12.39%</td>\n",
       "    </tr>\n",
       "    <tr>\n",
       "      <th>2</th>\n",
       "      <td>  69000</td>\n",
       "      <td>     RENT</td>\n",
       "      <td>  13.66%</td>\n",
       "    </tr>\n",
       "    <tr>\n",
       "      <th>3</th>\n",
       "      <td>  50000</td>\n",
       "      <td>     RENT</td>\n",
       "      <td>  13.66%</td>\n",
       "    </tr>\n",
       "    <tr>\n",
       "      <th>4</th>\n",
       "      <td> 125000</td>\n",
       "      <td> MORTGAGE</td>\n",
       "      <td>  17.14%</td>\n",
       "    </tr>\n",
       "  </tbody>\n",
       "</table>\n",
       "</div>"
      ],
      "text/plain": [
       "   annual_inc home_ownership int_rate\n",
       "0       58000       MORTGAGE    6.99%\n",
       "1       78000           RENT   12.39%\n",
       "2       69000           RENT   13.66%\n",
       "3       50000           RENT   13.66%\n",
       "4      125000       MORTGAGE   17.14%"
      ]
     },
     "execution_count": 4,
     "metadata": {},
     "output_type": "execute_result"
    }
   ],
   "source": [
    "lending_data = df_[['annual_inc','home_ownership','int_rate']]\n",
    "lending_data.head()"
   ]
  },
  {
   "cell_type": "code",
   "execution_count": 5,
   "metadata": {
    "collapsed": false
   },
   "outputs": [],
   "source": [
    "def int_rate(dt):\n",
    "    dt = str(dt).strip('%')\n",
    "    return float(dt)\n",
    "\n",
    "def home_ownership(dt):\n",
    "    if dt == 'MORTGAGE':\n",
    "        return 0 \n",
    "    elif dt == 'RENT':\n",
    "        return 1 \n",
    "    elif dt == 'OWN':\n",
    "        return 2\n",
    "    else:\n",
    "        return 0"
   ]
  },
  {
   "cell_type": "code",
   "execution_count": 6,
   "metadata": {
    "collapsed": false
   },
   "outputs": [
    {
     "name": "stderr",
     "output_type": "stream",
     "text": [
      "/Users/ikeokonkwo/anaconda/lib/python2.7/site-packages/IPython/kernel/__main__.py:1: SettingWithCopyWarning: \n",
      "A value is trying to be set on a copy of a slice from a DataFrame.\n",
      "Try using .loc[row_indexer,col_indexer] = value instead\n",
      "\n",
      "See the the caveats in the documentation: http://pandas.pydata.org/pandas-docs/stable/indexing.html#indexing-view-versus-copy\n",
      "  if __name__ == '__main__':\n",
      "/Users/ikeokonkwo/anaconda/lib/python2.7/site-packages/IPython/kernel/__main__.py:2: SettingWithCopyWarning: \n",
      "A value is trying to be set on a copy of a slice from a DataFrame.\n",
      "Try using .loc[row_indexer,col_indexer] = value instead\n",
      "\n",
      "See the the caveats in the documentation: http://pandas.pydata.org/pandas-docs/stable/indexing.html#indexing-view-versus-copy\n",
      "  from IPython.kernel.zmq import kernelapp as app\n"
     ]
    }
   ],
   "source": [
    "lending_data['int_rate'] = lending_data.int_rate.apply(int_rate)\n",
    "lending_data['home_ownership'] = lending_data.home_ownership.apply(home_ownership)"
   ]
  },
  {
   "cell_type": "code",
   "execution_count": 7,
   "metadata": {
    "collapsed": false
   },
   "outputs": [
    {
     "data": {
      "text/html": [
       "<div style=\"max-height:1000px;max-width:1500px;overflow:auto;\">\n",
       "<table border=\"1\" class=\"dataframe\">\n",
       "  <thead>\n",
       "    <tr style=\"text-align: right;\">\n",
       "      <th></th>\n",
       "      <th>annual_inc</th>\n",
       "      <th>home_ownership</th>\n",
       "      <th>int_rate</th>\n",
       "    </tr>\n",
       "  </thead>\n",
       "  <tbody>\n",
       "    <tr>\n",
       "      <th>0</th>\n",
       "      <td>  58000</td>\n",
       "      <td> 0</td>\n",
       "      <td>  6.99</td>\n",
       "    </tr>\n",
       "    <tr>\n",
       "      <th>1</th>\n",
       "      <td>  78000</td>\n",
       "      <td> 1</td>\n",
       "      <td> 12.39</td>\n",
       "    </tr>\n",
       "    <tr>\n",
       "      <th>2</th>\n",
       "      <td>  69000</td>\n",
       "      <td> 1</td>\n",
       "      <td> 13.66</td>\n",
       "    </tr>\n",
       "    <tr>\n",
       "      <th>3</th>\n",
       "      <td>  50000</td>\n",
       "      <td> 1</td>\n",
       "      <td> 13.66</td>\n",
       "    </tr>\n",
       "    <tr>\n",
       "      <th>4</th>\n",
       "      <td> 125000</td>\n",
       "      <td> 0</td>\n",
       "      <td> 17.14</td>\n",
       "    </tr>\n",
       "  </tbody>\n",
       "</table>\n",
       "</div>"
      ],
      "text/plain": [
       "   annual_inc  home_ownership  int_rate\n",
       "0       58000               0      6.99\n",
       "1       78000               1     12.39\n",
       "2       69000               1     13.66\n",
       "3       50000               1     13.66\n",
       "4      125000               0     17.14"
      ]
     },
     "execution_count": 7,
     "metadata": {},
     "output_type": "execute_result"
    }
   ],
   "source": [
    "lending_data = lending_data.dropna()\n",
    "\n",
    "data =  lending_data[['annual_inc','home_ownership']]\n",
    "target = lending_data['int_rate']\n",
    "\n",
    "lending_data.head()"
   ]
  },
  {
   "cell_type": "code",
   "execution_count": 8,
   "metadata": {
    "collapsed": false
   },
   "outputs": [
    {
     "name": "stdout",
     "output_type": "stream",
     "text": [
      "(164940, 2) (70689, 2)\n",
      "LinearRegression(copy_X=True, fit_intercept=True, n_jobs=1, normalize=False)\n"
     ]
    }
   ],
   "source": [
    "from sklearn.linear_model import LinearRegression \n",
    "from sklearn import metrics \n",
    "\n",
    "from sklearn.cross_validation import train_test_split\n",
    "X_train, X_test, y_train, y_test = train_test_split(data, target, test_size=0.3)\n",
    "print X_train.shape, X_test.shape\n",
    "\n",
    "model=LinearRegression() \n",
    "model.fit(X_train, y_train) \n",
    "print(model)\n",
    "# make predictions\n",
    "expected = y_test \n",
    "predicted = model.predict(X_test) \n"
   ]
  },
  {
   "cell_type": "code",
   "execution_count": 9,
   "metadata": {
    "collapsed": false
   },
   "outputs": [
    {
     "name": "stdout",
     "output_type": "stream",
     "text": [
      "Mean Squared Error : 18.6078076008\n",
      "r-squared : 0.00695609272549\n"
     ]
    }
   ],
   "source": [
    "# summarize the fit of the model \n",
    "mse=np.mean((predicted-expected)**2) \n",
    "print 'Mean Squared Error :', mse \n",
    "print 'r-squared :', metrics.r2_score(expected, predicted)"
   ]
  },
  {
   "cell_type": "markdown",
   "metadata": {
    "collapsed": true
   },
   "source": [
    "#### The R-square is actually quite small "
   ]
  },
  {
   "cell_type": "code",
   "execution_count": 11,
   "metadata": {
    "collapsed": false
   },
   "outputs": [],
   "source": [
    "## Re running some of your code\n",
    "df = df_\n",
    "df.dropna(inplace=True)\n",
    "\n",
    "df['annual_inc'] = df['annual_inc'].map(lambda x: float(x))\n",
    "\n",
    "df['int_rate'] = df['int_rate'].map(lambda x:\n",
    "                                    round(float(x.rstrip('%')) / 100, 4))\n",
    "\n",
    "df['home_ownership'] = df['home_ownership'].map(lambda x:\n",
    "                                                int(1 if x == 'MORTGAGE' else 1\n",
    "                                                    if x == 'OWN' else 0))\n",
    "\n",
    "intrate = df['int_rate']\n",
    "home = df['home_ownership']\n",
    "anninc = df['annual_inc']\n",
    "\n",
    "y = np.matrix(intrate).transpose()\n",
    "\n",
    "x1 = np.matrix(anninc).transpose()\n",
    "x2 = np.matrix(home).transpose()\n",
    "\n",
    "x = np.column_stack([x1])"
   ]
  },
  {
   "cell_type": "code",
   "execution_count": 12,
   "metadata": {
    "collapsed": false
   },
   "outputs": [
    {
     "name": "stdout",
     "output_type": "stream",
     "text": [
      "The regression results for just annual income are:\n",
      "                            OLS Regression Results                            \n",
      "==============================================================================\n",
      "Dep. Variable:                      y   R-squared:                       0.003\n",
      "Model:                            OLS   Adj. R-squared:                  0.002\n",
      "Method:                 Least Squares   F-statistic:                     1.975\n",
      "Date:                Sat, 18 Apr 2015   Prob (F-statistic):              0.160\n",
      "Time:                        17:52:02   Log-Likelihood:                 1235.2\n",
      "No. Observations:                 636   AIC:                            -2466.\n",
      "Df Residuals:                     634   BIC:                            -2457.\n",
      "Df Model:                           1                                         \n",
      "Covariance Type:            nonrobust                                         \n",
      "==============================================================================\n",
      "                 coef    std err          t      P>|t|      [95.0% Conf. Int.]\n",
      "------------------------------------------------------------------------------\n",
      "const          0.1470      0.002     58.810      0.000         0.142     0.152\n",
      "x1          3.869e-08   2.75e-08      1.406      0.160     -1.54e-08  9.28e-08\n",
      "==============================================================================\n",
      "Omnibus:                       53.123   Durbin-Watson:                   1.970\n",
      "Prob(Omnibus):                  0.000   Jarque-Bera (JB):               66.941\n",
      "Skew:                           0.696   Prob(JB):                     2.91e-15\n",
      "Kurtosis:                       3.766   Cond. No.                     1.65e+05\n",
      "==============================================================================\n",
      "\n",
      "Warnings:\n",
      "[1] Standard Errors assume that the covariance matrix of the errors is correctly specified.\n",
      "[2] The condition number is large, 1.65e+05. This might indicate that there are\n",
      "strong multicollinearity or other numerical problems.\n"
     ]
    }
   ],
   "source": [
    "X = sm.add_constant(x1)\n",
    "model = sm.OLS(y, X)\n",
    "f = model.fit()\n",
    "\n",
    "print('The regression results for just annual income are:')\n",
    "print(f.summary())\n"
   ]
  },
  {
   "cell_type": "code",
   "execution_count": 13,
   "metadata": {
    "collapsed": false
   },
   "outputs": [
    {
     "name": "stdout",
     "output_type": "stream",
     "text": [
      "The regression results for both annual income and home ownership are:\n",
      "                            OLS Regression Results                            \n",
      "==============================================================================\n",
      "Dep. Variable:                      y   R-squared:                       0.008\n",
      "Model:                            OLS   Adj. R-squared:                  0.005\n",
      "Method:                 Least Squares   F-statistic:                     2.461\n",
      "Date:                Sat, 18 Apr 2015   Prob (F-statistic):             0.0861\n",
      "Time:                        17:52:04   Log-Likelihood:                 1236.7\n",
      "No. Observations:                 636   AIC:                            -2467.\n",
      "Df Residuals:                     633   BIC:                            -2454.\n",
      "Df Model:                           2                                         \n",
      "Covariance Type:            nonrobust                                         \n",
      "==============================================================================\n",
      "                 coef    std err          t      P>|t|      [95.0% Conf. Int.]\n",
      "------------------------------------------------------------------------------\n",
      "const          0.1495      0.003     51.685      0.000         0.144     0.155\n",
      "x1          4.473e-08   2.77e-08      1.614      0.107     -9.69e-09  9.91e-08\n",
      "x2            -0.0049      0.003     -1.715      0.087        -0.010     0.001\n",
      "==============================================================================\n",
      "Omnibus:                       49.519   Durbin-Watson:                   1.965\n",
      "Prob(Omnibus):                  0.000   Jarque-Bera (JB):               61.372\n",
      "Skew:                           0.668   Prob(JB):                     4.71e-14\n",
      "Kurtosis:                       3.728   Cond. No.                     2.32e+05\n",
      "==============================================================================\n",
      "\n",
      "Warnings:\n",
      "[1] Standard Errors assume that the covariance matrix of the errors is correctly specified.\n",
      "[2] The condition number is large, 2.32e+05. This might indicate that there are\n",
      "strong multicollinearity or other numerical problems.\n"
     ]
    }
   ],
   "source": [
    "z = np.column_stack([x1, x2])\n",
    "\n",
    "Z = sm.add_constant(z)\n",
    "model2 = sm.OLS(y, Z)\n",
    "g = model2.fit()\n",
    "\n",
    "print('The regression results for both annual income and home ownership are:')\n",
    "print(g.summary())"
   ]
  },
  {
   "cell_type": "code",
   "execution_count": null,
   "metadata": {
    "collapsed": true
   },
   "outputs": [],
   "source": []
  }
 ],
 "metadata": {
  "kernelspec": {
   "display_name": "Python 2",
   "language": "python",
   "name": "python2"
  },
  "language_info": {
   "codemirror_mode": {
    "name": "ipython",
    "version": 2
   },
   "file_extension": ".py",
   "mimetype": "text/x-python",
   "name": "python",
   "nbconvert_exporter": "python",
   "pygments_lexer": "ipython2",
   "version": "2.7.9"
  }
 },
 "nbformat": 4,
 "nbformat_minor": 0
}
